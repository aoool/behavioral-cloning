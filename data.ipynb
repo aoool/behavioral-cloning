{
 "cells": [
  {
   "cell_type": "markdown",
   "metadata": {
    "collapsed": true
   },
   "source": [
    "# Behavioral Cloning"
   ]
  },
  {
   "cell_type": "markdown",
   "metadata": {},
   "source": [
    "Here the driving data collected using the [driving simulator](https://github.com/udacity/self-driving-car-sim) will be explored and augmented."
   ]
  },
  {
   "cell_type": "markdown",
   "metadata": {},
   "source": [
    "#### Extract Raw Data Archive"
   ]
  },
  {
   "cell_type": "code",
   "execution_count": null,
   "metadata": {
    "collapsed": true
   },
   "outputs": [],
   "source": [
    "import os\n",
    "import zipfile\n",
    "\n",
    "if not (os.path.isdir(\"data_raw\") and os.path.exists(\"data_raw.csv\")):\n",
    "    zip_ref = zipfile.ZipFile(\"data_raw.zip\", 'r')\n",
    "    zip_ref.extractall(\".\")\n",
    "    zip_ref.close()"
   ]
  },
  {
   "cell_type": "markdown",
   "metadata": {},
   "source": [
    "#### Read CSV File for the Recently Extracted Data"
   ]
  },
  {
   "cell_type": "code",
   "execution_count": null,
   "metadata": {},
   "outputs": [],
   "source": [
    "import os\n",
    "import pandas as pd\n",
    "\n",
    "data = pd.read_csv(\"data_raw.csv\").to_dict(orient='list')\n",
    "\n",
    "n_records = len(data['STEERING_ANGLE'])\n",
    "n_images = n_records * 3  # center, left and right images per record\n",
    "\n",
    "print(\"Number of samples:\", n_records)\n",
    "print(\"Number of images:\", n_images)  \n",
    "\n",
    "# validate that directory number of images in csv file \n",
    "# and the number of images in the directory are equal\n",
    "assert (len(os.listdir(\"data_raw\")) == n_images)"
   ]
  },
  {
   "cell_type": "markdown",
   "metadata": {},
   "source": [
    "#### Draw Histogram for Steering Angle for Raw Data"
   ]
  },
  {
   "cell_type": "code",
   "execution_count": null,
   "metadata": {},
   "outputs": [],
   "source": [
    "import matplotlib.pyplot as plt\n",
    "\n",
    "# visualizations will be shown in the notebook\n",
    "%matplotlib inline\n",
    "\n",
    "plt.hist(data['STEERING_ANGLE'], bins=100)\n",
    "plt.show()"
   ]
  },
  {
   "cell_type": "markdown",
   "metadata": {},
   "source": [
    "Since the steering was performed using a mouse instead of buttons in the simulator during data collection, there are entries in each bin of the histogram. The results are pretty expected; the most number of the entries is around zero, and there are also many entries in the most left and right angles are of +/- 25 angle degree."
   ]
  },
  {
   "cell_type": "markdown",
   "metadata": {},
   "source": [
    "#### Augment the Data via Images and Steering Measurements Flipping "
   ]
  },
  {
   "cell_type": "code",
   "execution_count": null,
   "metadata": {
    "collapsed": true
   },
   "outputs": [],
   "source": [
    "import cv2\n",
    "import os\n",
    "\n",
    "if os.path.isdir(\"data_augmented\") and os.path.exists(\"data_augmented.csv\"):\n",
    "    print(\"data_augmented directory or data_augmented.csv file exists\")\n",
    "else:\n",
    "    os.mkdir(\"data_augmented\")\n",
    "    with open(\"data_augmented.csv\", \"w\") as csv_file:\n",
    "        csv_file.write(\"CENTER_IMAGE,LEFT_IMAGE,RIGHT_IMAGE,STEERING_ANGLE,THROTTLE,BRAKE,SPEED\\n\")\n",
    "        for i in range(n_records):\n",
    "            # center image names (old, new)\n",
    "            center_im_nm = data['CENTER_IMAGE'][i]\n",
    "            center_im_nm_new = center_im_nm.replace(\"data_raw\", \"data_augmented\")\n",
    "            center_im_nm_new_flipped = center_im_nm_new.replace(\"center\", \"center_flipped\")\n",
    "            \n",
    "            # left image names (old,new)\n",
    "            left_im_nm = data['LEFT_IMAGE'][i]\n",
    "            left_im_nm_new = left_im_nm.replace(\"data_raw\", \"data_augmented\")\n",
    "            left_im_nm_new_flipped = left_im_nm_new.replace(\"left\", \"left_flipped\")\n",
    "            \n",
    "            # right image names (old, new)\n",
    "            right_im_nm = data['RIGHT_IMAGE'][i]\n",
    "            right_im_nm_new = right_im_nm.replace(\"data_raw\", \"data_augmented\")\n",
    "            right_im_nm_new_flipped = right_im_nm_new.replace(\"right\", \"right_flipped\")\n",
    "            \n",
    "            # steering angle (old, flipped)\n",
    "            steering_angle = data['STEERING_ANGLE'][i]\n",
    "            steering_angle_flipped = -1.0 * steering_angle\n",
    "            \n",
    "            # create hard links to the original images in new directory \n",
    "            os.link(center_im_nm, center_im_nm_new)\n",
    "            os.link(left_im_nm, left_im_nm_new)\n",
    "            os.link(right_im_nm, right_im_nm_new)\n",
    "            \n",
    "            # write info about old images to new csv file\n",
    "            csv_file.write(\"{c_im},{l_im},{r_im},{st_ang},{thr},{br},{sp}\\n\".format(\n",
    "                c_im=center_im_nm_new,\n",
    "                l_im=left_im_nm_new,\n",
    "                r_im=right_im_nm_new,\n",
    "                st_ang=data['STEERING_ANGLE'][i],\n",
    "                thr=data['THROTTLE'][i],\n",
    "                br=data['BRAKE'][i],\n",
    "                sp=data['SPEED'][i]))\n",
    "            \n",
    "            # flip center image and save\n",
    "            flipped_center_im = cv2.flip(cv2.imread(center_im_nm), flipCode=1)\n",
    "            cv2.imwrite(center_im_nm_new_flipped, flipped_center_im)\n",
    "\n",
    "            # flip left image and save\n",
    "            flipped_left_im = cv2.flip(cv2.imread(left_im_nm), flipCode=1)\n",
    "            cv2.imwrite(left_im_nm_new_flipped, flipped_left_im)\n",
    "            \n",
    "            # flip right image and save\n",
    "            flipped_right_im = cv2.flip(cv2.imread(right_im_nm), flipCode=1)\n",
    "            cv2.imwrite(right_im_nm_new_flipped, flipped_right_im)\n",
    "\n",
    "            # write info about flipped images to new csv file\n",
    "            csv_file.write(\"{c_im},{l_im},{r_im},{st_ang},{thr},{br},{sp}\\n\".format(\n",
    "                c_im=center_im_nm_new_flipped,\n",
    "                l_im=left_im_nm_new_flipped,\n",
    "                r_im=right_im_nm_new_flipped,\n",
    "                st_ang=steering_angle_flipped,\n",
    "                thr=data['THROTTLE'][i],\n",
    "                br=data['BRAKE'][i],\n",
    "                sp=data['SPEED'][i]))"
   ]
  },
  {
   "cell_type": "markdown",
   "metadata": {},
   "source": [
    "#### Read CSV File for the Augmented Data"
   ]
  },
  {
   "cell_type": "code",
   "execution_count": null,
   "metadata": {},
   "outputs": [],
   "source": [
    "import os\n",
    "import pandas as pd\n",
    "\n",
    "data_augmented = pd.read_csv(\"data_augmented.csv\").to_dict(orient='list')\n",
    "\n",
    "n_records_augmented = len(data_augmented['STEERING_ANGLE'])\n",
    "n_images_augmented = n_records_augmented * 3  # center, left and right images per record\n",
    "\n",
    "print(\"Number of samples:\", n_records_augmented)\n",
    "print(\"Number of images:\", n_images_augmented)  \n",
    "\n",
    "# validate that directory number of images in csv file \n",
    "# and the number of images in the directory are equal\n",
    "assert (len(os.listdir(\"data_augmented\")) == n_images_augmented)"
   ]
  },
  {
   "cell_type": "markdown",
   "metadata": {},
   "source": [
    "#### Draw Histogram for Steering Angle for Augmented Data"
   ]
  },
  {
   "cell_type": "code",
   "execution_count": null,
   "metadata": {},
   "outputs": [],
   "source": [
    "import matplotlib.pyplot as plt\n",
    "\n",
    "# visualizations will be shown in the notebook\n",
    "%matplotlib inline\n",
    "\n",
    "plt.hist(data_augmented['STEERING_ANGLE'], bins=100)\n",
    "plt.show()"
   ]
  },
  {
   "cell_type": "markdown",
   "metadata": {},
   "source": [
    "The histogram for the augmented data is symmetric. It is expected and desired state for the data. The augmented data will be used to train neural network predicting steering angle."
   ]
  },
  {
   "cell_type": "markdown",
   "metadata": {},
   "source": [
    "#### Compress Augmented Data"
   ]
  },
  {
   "cell_type": "code",
   "execution_count": null,
   "metadata": {
    "collapsed": true
   },
   "outputs": [],
   "source": [
    "import os\n",
    "import zipfile\n",
    "\n",
    "def zip_dir(path, zip_ref):\n",
    "    for root, dirs, files in os.walk(path):\n",
    "        for file in files:\n",
    "            zip_ref.write(os.path.join(root, file))\n",
    "\n",
    "if (os.path.isdir(\"data_augmented\") and os.path.exists(\"data_augmented.csv\")):\n",
    "    zip_ref = zipfile.ZipFile(\"data_augmented.zip\", 'w', zipfile.ZIP_DEFLATED)\n",
    "    zip_ref.write(\"data_augmented.csv\")\n",
    "    zip_dir(\"data_augmented\", zip_ref)\n",
    "    zip_ref.close()"
   ]
  }
 ],
 "metadata": {
  "kernelspec": {
   "display_name": "Python 3",
   "language": "python",
   "name": "python3"
  },
  "language_info": {
   "codemirror_mode": {
    "name": "ipython",
    "version": 3
   },
   "file_extension": ".py",
   "mimetype": "text/x-python",
   "name": "python",
   "nbconvert_exporter": "python",
   "pygments_lexer": "ipython3",
   "version": "3.5.2"
  },
  "widgets": {
   "state": {},
   "version": "1.1.2"
  }
 },
 "nbformat": 4,
 "nbformat_minor": 1
}
